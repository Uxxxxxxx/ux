{
  "nbformat": 4,
  "nbformat_minor": 0,
  "metadata": {
    "colab": {
      "provenance": [],
      "authorship_tag": "ABX9TyP1cCFr4Emd2o8+mD71s4n4",
      "include_colab_link": true
    },
    "kernelspec": {
      "name": "python3",
      "display_name": "Python 3"
    },
    "language_info": {
      "name": "python"
    }
  },
  "cells": [
    {
      "cell_type": "markdown",
      "metadata": {
        "id": "view-in-github",
        "colab_type": "text"
      },
      "source": [
        "<a href=\"https://colab.research.google.com/github/Uxxxxxxx/ux/blob/master/calculadora_C%2B%2B.ipynb\" target=\"_parent\"><img src=\"https://colab.research.google.com/assets/colab-badge.svg\" alt=\"Open In Colab\"/></a>"
      ]
    },
    {
      "cell_type": "code",
      "execution_count": null,
      "metadata": {
        "id": "umkAfNoP6xMx"
      },
      "outputs": [],
      "source": [
        "# include <iostream>\n",
        "using namespace std;\n",
        "int main(int argc, char *argv[]){\n",
        "\tint num1, num2, resultado;\n",
        "\tfloat div;\n",
        "\tchar op;\n",
        "\tcout <<\"Digite o primeiro numero: \";\n",
        "\tcin >> num1;\n",
        "\tcout <<\"Digite o segundo numero: \";\n",
        "\tcin >> num2;\n",
        "\tcout <<\"Digite a operacao: \";\n",
        "\tcin >> op;\n",
        "\t\n",
        "\tswitch(op)\n",
        "\t{\n",
        "\tcase '+':\n",
        "     \tresultado = num1 + num2;\n",
        "\t    cout << \"Soma: \" << resultado << endl;\n",
        "\t    break;\n",
        "\tcase '-':\n",
        "\t    resultado = num1 - num2;\n",
        "\t    cout << \"Subtracao: \" << resultado << endl;\n",
        "        break;\n",
        "\tcase '*':\n",
        "\t    resultado = num1 * num2;\n",
        "\t    cout << \"Multiplicacao: \" << resultado << endl;\n",
        "        break;\n",
        "    case '/':\n",
        "\t \tif(num2 != 0)\n",
        "\t\t {\n",
        "\t\t      div =(float)num1 / num2; \n",
        "\t\t      cout <<\"Divisao: \" << div << endl;\n",
        "\t\t }\n",
        "\t\t else\n",
        "\t\t {\t\n",
        "\t\t\t cout <<\"Divisao por zero!\";\n",
        "\t\t }\n",
        "\t\t break;\n",
        "\tdefault:\n",
        "\t     cout << \"Operaçao inexistente.\";\n",
        "\t     break; \t\n",
        "\t}\n",
        "\treturn 0;\t\n",
        "}"
      ]
    }
  ]
}